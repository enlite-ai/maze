{
 "cells": [
  {
   "cell_type": "markdown",
   "metadata": {
    "collapsed": true,
    "pycharm": {
     "name": "#%% md\n"
    }
   },
   "source": [
    "# [![Open In Colab](https://colab.research.google.com/assets/colab-badge.svg)](https://colab.research.google.com/github/enlite-ai/maze/blob/main/tutorials/notebooks/getting_started/getting_started_2_configurability.ipynb) Maze: Getting Started Part II - Configurability\n",
    "\n",
    "Part 2 of 4 in the *Getting started* series. We recommend reading [part 1](https://colab.research.google.com/github/enlite-ai/maze/blob/master/tutorials/notebooks/getting_started/getting_started_1.ipynb) prior to this notebook."
   ]
  },
  {
   "cell_type": "markdown",
   "source": [
    "## On Maze\n",
    "\n",
    "MazeRL is an application-oriented Deep Reinforcement Learning (RL) framework, addressing real-world decision problems. If this caught your interest, check out\n",
    "* the [Github repository](https://github.com/enlite-ai/maze),\n",
    "* the [documentation](https://maze-rl.readthedocs.io/en/latest/index.html#documentation-overview) or\n",
    "* the official [website](https://www.enlite.ai/).\n"
   ],
   "metadata": {
    "collapsed": false
   }
  },
  {
   "cell_type": "markdown",
   "source": [
    "## Introduction\n",
    "\n",
    "This notebook discusses configurability in Maze. In particular, it introduces Maze' Hydra-based configuration system and demonstrates how to pass components in different ways to `RunContext` to adapt the agent to your needs.\n",
    "\n",
    "We highlight the configurability of environments via the OpenAI Gym-inspired wrapper system, which allows wrapping environments in order to modify their behaviour without having to rewrite the original environment.\n",
    "\n",
    "As in part 1 of the tutorial, we will mostly use the `CartPole-v0` environment (see [here](https://gym.openai.com/envs/CartPole-v0/) for more information)."
   ],
   "metadata": {
    "collapsed": false
   }
  },
  {
   "cell_type": "markdown",
   "source": [
    "### Install Maze and Dependencies\n",
    "\n",
    "Maze is available as pip package. The other dependencies required for this notebook are PyTorch and OpenAI's gym. We recommend installing PyTorch via Conda. If you are executing this notebook on Google Collabe, both libraries are already available."
   ],
   "metadata": {
    "collapsed": false
   }
  },
  {
   "cell_type": "code",
   "execution_count": 2,
   "outputs": [
    {
     "name": "stdout",
     "output_type": "stream",
     "text": [
      "Requirement already satisfied: torch in /home/raphael/miniconda3/envs/loop/lib/python3.7/site-packages (1.6.0)\r\n",
      "Requirement already satisfied: future in /home/raphael/miniconda3/envs/loop/lib/python3.7/site-packages (from torch) (0.18.2)\r\n",
      "Requirement already satisfied: numpy in /home/raphael/miniconda3/envs/loop/lib/python3.7/site-packages (from torch) (1.19.5)\r\n",
      "Requirement already satisfied: gym in /home/raphael/miniconda3/envs/loop/lib/python3.7/site-packages (0.18.0)\r\n",
      "Requirement already satisfied: Pillow<=7.2.0 in /home/raphael/miniconda3/envs/loop/lib/python3.7/site-packages (from gym) (7.2.0)\r\n",
      "Requirement already satisfied: pyglet<=1.5.0,>=1.4.0 in /home/raphael/miniconda3/envs/loop/lib/python3.7/site-packages (from gym) (1.5.0)\r\n",
      "Requirement already satisfied: numpy>=1.10.4 in /home/raphael/miniconda3/envs/loop/lib/python3.7/site-packages (from gym) (1.19.5)\r\n",
      "Requirement already satisfied: cloudpickle<1.7.0,>=1.2.0 in /home/raphael/miniconda3/envs/loop/lib/python3.7/site-packages (from gym) (1.2.2)\r\n",
      "Requirement already satisfied: scipy in /home/raphael/miniconda3/envs/loop/lib/python3.7/site-packages (from gym) (1.6.2)\r\n",
      "Requirement already satisfied: future in /home/raphael/miniconda3/envs/loop/lib/python3.7/site-packages (from pyglet<=1.5.0,>=1.4.0->gym) (0.18.2)\r\n",
      "Requirement already satisfied: maze-rl in /home/raphael/miniconda3/envs/loop/lib/python3.7/site-packages (0.1.5)\r\n",
      "Requirement already satisfied: tensorboard in /home/raphael/miniconda3/envs/loop/lib/python3.7/site-packages (from maze-rl) (2.4.1)\r\n",
      "Requirement already satisfied: seaborn in /home/raphael/miniconda3/envs/loop/lib/python3.7/site-packages (from maze-rl) (0.10.1)\r\n",
      "Requirement already satisfied: requests in /home/raphael/miniconda3/envs/loop/lib/python3.7/site-packages (from maze-rl) (2.23.0)\r\n",
      "Requirement already satisfied: omegaconf==2.1.0.dev21 in /home/raphael/miniconda3/envs/loop/lib/python3.7/site-packages (from maze-rl) (2.1.0.dev21)\r\n",
      "Requirement already satisfied: networkx in /home/raphael/miniconda3/envs/loop/lib/python3.7/site-packages (from maze-rl) (2.4)\r\n",
      "Requirement already satisfied: matplotlib in /home/raphael/miniconda3/envs/loop/lib/python3.7/site-packages (from maze-rl) (3.2.2)\r\n",
      "Requirement already satisfied: pytest-redis in /home/raphael/miniconda3/envs/loop/lib/python3.7/site-packages (from maze-rl) (2.0.0)\r\n",
      "Requirement already satisfied: imageio in /home/raphael/miniconda3/envs/loop/lib/python3.7/site-packages (from maze-rl) (2.9.0)\r\n",
      "Requirement already satisfied: pyyaml in /home/raphael/miniconda3/envs/loop/lib/python3.7/site-packages (from maze-rl) (5.3.1)\r\n",
      "Requirement already satisfied: cloudpickle in /home/raphael/miniconda3/envs/loop/lib/python3.7/site-packages (from maze-rl) (1.2.2)\r\n",
      "Requirement already satisfied: pandas in /home/raphael/miniconda3/envs/loop/lib/python3.7/site-packages (from maze-rl) (1.0.4)\r\n",
      "Requirement already satisfied: hydra-core==1.1.0.dev4 in /home/raphael/miniconda3/envs/loop/lib/python3.7/site-packages (from maze-rl) (1.1.0.dev4)\r\n",
      "Requirement already satisfied: pytest>=6.0.0 in /home/raphael/miniconda3/envs/loop/lib/python3.7/site-packages (from maze-rl) (6.2.4)\r\n",
      "Requirement already satisfied: pytest-timeout in /home/raphael/miniconda3/envs/loop/lib/python3.7/site-packages (from maze-rl) (1.4.2)\r\n",
      "Requirement already satisfied: gym[box2d] in /home/raphael/miniconda3/envs/loop/lib/python3.7/site-packages (from maze-rl) (0.18.0)\r\n",
      "Requirement already satisfied: pillow in /home/raphael/miniconda3/envs/loop/lib/python3.7/site-packages (from maze-rl) (7.2.0)\r\n",
      "Requirement already satisfied: tqdm in /home/raphael/miniconda3/envs/loop/lib/python3.7/site-packages (from maze-rl) (4.50.2)\r\n",
      "Requirement already satisfied: redis in /home/raphael/miniconda3/envs/loop/lib/python3.7/site-packages (from maze-rl) (3.4.1)\r\n",
      "Requirement already satisfied: antlr4-python3-runtime==4.8 in /home/raphael/miniconda3/envs/loop/lib/python3.7/site-packages (from hydra-core==1.1.0.dev4->maze-rl) (4.8)\r\n",
      "Requirement already satisfied: importlib-resources in /home/raphael/miniconda3/envs/loop/lib/python3.7/site-packages (from hydra-core==1.1.0.dev4->maze-rl) (1.5.0)\r\n",
      "Requirement already satisfied: packaging in /home/raphael/miniconda3/envs/loop/lib/python3.7/site-packages (from pytest>=6.0.0->maze-rl) (20.9)\r\n",
      "Requirement already satisfied: importlib-metadata>=0.12 in /home/raphael/miniconda3/envs/loop/lib/python3.7/site-packages (from pytest>=6.0.0->maze-rl) (2.0.0)\r\n",
      "Requirement already satisfied: py>=1.8.2 in /home/raphael/miniconda3/envs/loop/lib/python3.7/site-packages (from pytest>=6.0.0->maze-rl) (1.10.0)\r\n",
      "Requirement already satisfied: pluggy<1.0.0a1,>=0.12 in /home/raphael/miniconda3/envs/loop/lib/python3.7/site-packages (from pytest>=6.0.0->maze-rl) (0.13.1)\r\n",
      "Requirement already satisfied: iniconfig in /home/raphael/miniconda3/envs/loop/lib/python3.7/site-packages (from pytest>=6.0.0->maze-rl) (1.1.1)\r\n",
      "Requirement already satisfied: attrs>=19.2.0 in /home/raphael/miniconda3/envs/loop/lib/python3.7/site-packages (from pytest>=6.0.0->maze-rl) (20.3.0)\r\n",
      "Requirement already satisfied: toml in /home/raphael/miniconda3/envs/loop/lib/python3.7/site-packages (from pytest>=6.0.0->maze-rl) (0.10.2)\r\n",
      "Requirement already satisfied: zipp>=0.5 in /home/raphael/miniconda3/envs/loop/lib/python3.7/site-packages (from importlib-metadata>=0.12->pytest>=6.0.0->maze-rl) (3.4.0)\r\n",
      "Requirement already satisfied: scipy in /home/raphael/miniconda3/envs/loop/lib/python3.7/site-packages (from gym[box2d]->maze-rl) (1.6.2)\r\n",
      "Requirement already satisfied: numpy>=1.10.4 in /home/raphael/miniconda3/envs/loop/lib/python3.7/site-packages (from gym[box2d]->maze-rl) (1.19.5)\r\n",
      "Requirement already satisfied: pyglet<=1.5.0,>=1.4.0 in /home/raphael/miniconda3/envs/loop/lib/python3.7/site-packages (from gym[box2d]->maze-rl) (1.5.0)\r\n",
      "Requirement already satisfied: box2d-py~=2.3.5 in /home/raphael/miniconda3/envs/loop/lib/python3.7/site-packages (from gym[box2d]->maze-rl) (2.3.8)\r\n",
      "Requirement already satisfied: future in /home/raphael/miniconda3/envs/loop/lib/python3.7/site-packages (from pyglet<=1.5.0,>=1.4.0->gym[box2d]->maze-rl) (0.18.2)\r\n",
      "Requirement already satisfied: kiwisolver>=1.0.1 in /home/raphael/miniconda3/envs/loop/lib/python3.7/site-packages (from matplotlib->maze-rl) (1.3.1)\r\n",
      "Requirement already satisfied: python-dateutil>=2.1 in /home/raphael/miniconda3/envs/loop/lib/python3.7/site-packages (from matplotlib->maze-rl) (2.8.1)\r\n",
      "Requirement already satisfied: cycler>=0.10 in /home/raphael/miniconda3/envs/loop/lib/python3.7/site-packages (from matplotlib->maze-rl) (0.10.0)\r\n",
      "Requirement already satisfied: pyparsing!=2.0.4,!=2.1.2,!=2.1.6,>=2.0.1 in /home/raphael/miniconda3/envs/loop/lib/python3.7/site-packages (from matplotlib->maze-rl) (2.4.7)\r\n",
      "Requirement already satisfied: six in /home/raphael/miniconda3/envs/loop/lib/python3.7/site-packages (from cycler>=0.10->matplotlib->maze-rl) (1.15.0)\r\n",
      "Requirement already satisfied: decorator>=4.3.0 in /home/raphael/miniconda3/envs/loop/lib/python3.7/site-packages (from networkx->maze-rl) (4.4.2)\r\n",
      "Requirement already satisfied: pytz>=2017.2 in /home/raphael/miniconda3/envs/loop/lib/python3.7/site-packages (from pandas->maze-rl) (2021.1)\r\n",
      "Requirement already satisfied: port-for>=0.3.1 in /home/raphael/miniconda3/envs/loop/lib/python3.7/site-packages (from pytest-redis->maze-rl) (0.4)\r\n",
      "Requirement already satisfied: mirakuru>=0.2 in /home/raphael/miniconda3/envs/loop/lib/python3.7/site-packages (from pytest-redis->maze-rl) (2.3.0)\r\n",
      "Requirement already satisfied: psutil>=4.0.0 in /home/raphael/miniconda3/envs/loop/lib/python3.7/site-packages (from mirakuru>=0.2->pytest-redis->maze-rl) (5.8.0)\r\n",
      "Requirement already satisfied: idna<3,>=2.5 in /home/raphael/miniconda3/envs/loop/lib/python3.7/site-packages (from requests->maze-rl) (2.10)\r\n",
      "Requirement already satisfied: chardet<4,>=3.0.2 in /home/raphael/miniconda3/envs/loop/lib/python3.7/site-packages (from requests->maze-rl) (3.0.4)\r\n",
      "Requirement already satisfied: urllib3!=1.25.0,!=1.25.1,<1.26,>=1.21.1 in /home/raphael/miniconda3/envs/loop/lib/python3.7/site-packages (from requests->maze-rl) (1.25.11)\r\n",
      "Requirement already satisfied: certifi>=2017.4.17 in /home/raphael/miniconda3/envs/loop/lib/python3.7/site-packages (from requests->maze-rl) (2020.12.5)\r\n",
      "Requirement already satisfied: google-auth-oauthlib<0.5,>=0.4.1 in /home/raphael/miniconda3/envs/loop/lib/python3.7/site-packages (from tensorboard->maze-rl) (0.4.2)\r\n",
      "Requirement already satisfied: tensorboard-plugin-wit>=1.6.0 in /home/raphael/miniconda3/envs/loop/lib/python3.7/site-packages (from tensorboard->maze-rl) (1.6.0)\r\n",
      "Requirement already satisfied: absl-py>=0.4 in /home/raphael/miniconda3/envs/loop/lib/python3.7/site-packages (from tensorboard->maze-rl) (0.11.0)\r\n",
      "Requirement already satisfied: wheel>=0.26 in /home/raphael/miniconda3/envs/loop/lib/python3.7/site-packages (from tensorboard->maze-rl) (0.36.2)\r\n",
      "Requirement already satisfied: grpcio>=1.24.3 in /home/raphael/miniconda3/envs/loop/lib/python3.7/site-packages (from tensorboard->maze-rl) (1.32.0)\r\n",
      "Requirement already satisfied: setuptools>=41.0.0 in /home/raphael/miniconda3/envs/loop/lib/python3.7/site-packages (from tensorboard->maze-rl) (52.0.0.post20210125)\r\n",
      "Requirement already satisfied: werkzeug>=0.11.15 in /home/raphael/miniconda3/envs/loop/lib/python3.7/site-packages (from tensorboard->maze-rl) (1.0.1)\r\n",
      "Requirement already satisfied: protobuf>=3.6.0 in /home/raphael/miniconda3/envs/loop/lib/python3.7/site-packages (from tensorboard->maze-rl) (3.14.0)\r\n",
      "Requirement already satisfied: google-auth<2,>=1.6.3 in /home/raphael/miniconda3/envs/loop/lib/python3.7/site-packages (from tensorboard->maze-rl) (1.24.0)\r\n",
      "Requirement already satisfied: markdown>=2.6.8 in /home/raphael/miniconda3/envs/loop/lib/python3.7/site-packages (from tensorboard->maze-rl) (3.3.3)\r\n",
      "Requirement already satisfied: cachetools<5.0,>=2.0.0 in /home/raphael/miniconda3/envs/loop/lib/python3.7/site-packages (from google-auth<2,>=1.6.3->tensorboard->maze-rl) (4.2.1)\r\n",
      "Requirement already satisfied: pyasn1-modules>=0.2.1 in /home/raphael/miniconda3/envs/loop/lib/python3.7/site-packages (from google-auth<2,>=1.6.3->tensorboard->maze-rl) (0.2.8)\r\n",
      "Requirement already satisfied: rsa<5,>=3.1.4 in /home/raphael/miniconda3/envs/loop/lib/python3.7/site-packages (from google-auth<2,>=1.6.3->tensorboard->maze-rl) (4.7)\r\n",
      "Requirement already satisfied: requests-oauthlib>=0.7.0 in /home/raphael/miniconda3/envs/loop/lib/python3.7/site-packages (from google-auth-oauthlib<0.5,>=0.4.1->tensorboard->maze-rl) (1.3.0)\r\n",
      "Requirement already satisfied: pyasn1<0.5.0,>=0.4.6 in /home/raphael/miniconda3/envs/loop/lib/python3.7/site-packages (from pyasn1-modules>=0.2.1->google-auth<2,>=1.6.3->tensorboard->maze-rl) (0.4.8)\r\n",
      "Requirement already satisfied: oauthlib>=3.0.0 in /home/raphael/miniconda3/envs/loop/lib/python3.7/site-packages (from requests-oauthlib>=0.7.0->google-auth-oauthlib<0.5,>=0.4.1->tensorboard->maze-rl) (3.1.0)\r\n"
     ]
    }
   ],
   "source": [
    "!pip install torch\n",
    "!pip install gym\n",
    "!pip install maze-rl"
   ],
   "metadata": {
    "collapsed": false,
    "pycharm": {
     "name": "#%%\n"
    }
   }
  },
  {
   "cell_type": "markdown",
   "source": [
    "## The Configuration System\n",
    "\n",
    "Maze utilizes [Hydra](https://github.com/facebookresearch/hydra) to facilitate a powerful configuration mechanism boosting developers' flexibility in their creation of reinforcement learning projects. Our CLI `maze-run` is built on top of Hydra. When using Maze in Python, the high-level API `RunContext` offers functionality mostly congruent with the CLI and provides additional features.\n",
    "\n",
    "Our documentation offers more detailed information on [RunContext](https://maze-rl.readthedocs.io/en/latest/concepts_and_structure/run_context_overview.html) and the underlying Hydra-based [configuration system](https://maze-rl.readthedocs.io/en/latest/concepts_and_structure/hydra.html). In this tutorial, we will stick to Python and work only with `RunContext`.\n",
    "\n",
    "In a nutshell, `RunContext` uses Hydra to build a configuration structure specifying every component to be instantiated. Major components (e.g. policy, environment etc.) are exposed explicitly in `RunContext.__init__` and can be passed in three different ways:\n",
    "* As instantiated Python object. Environments are a special case here, as they have to be passed as factory functions instead of as instances. In [Getting Started Part I](www.github.com/enlite-ai/maze/blob/main/tutorials/notebooks/getting_started_1.ipynb) we passed our environment using this approach (`...env=lambda: GymMazeEnv(env=gym.make(\"CartPole-v0\")) ...`).\n",
    "* As configuration module name. This will prompt Hydra to incorporate the configuration file with this name. In [Getting Started Part I](www.github.com/enlite-ai/maze/blob/main/tutorials/notebooks/getting_started_1.ipynb) we specified our algorithm like this (`...algorithm=\"ppo\"...`).\n",
    "* As configuration dictionary. We haven't encountered this so far and won't cover this in this tutorial.\n",
    "\n",
    "On top of that, component properties can be overriden using the `overrides` argument. This is useful to change only a particular property without having to redefining the entire component, e.g. when changing a certain property in an algorithm configuration."
   ],
   "metadata": {
    "collapsed": false
   }
  },
  {
   "cell_type": "markdown",
   "source": [
    "### Examples\n",
    "\n",
    "Each algorithm in Maze (e.g. A2C, PPO, ...) has a corresponding configuration class - `A2CAlgorithmConfig`, `PPOAlgorithmConfiguration`, etc. It is common to set these algorithm hyperparameters based on the outcome of some optimization procedure. How we can change these values in Maze?\n",
    "\n",
    "If you remember part I, the easiest way to specify an algorithm is to pass its name as string, e.g."
   ],
   "metadata": {
    "collapsed": false
   }
  },
  {
   "cell_type": "code",
   "execution_count": 3,
   "outputs": [
    {
     "name": "stdout",
     "output_type": "stream",
     "text": [
      "\u001B[93mWarning: Extracting config module name for argument 'env' is not supported. Configuration groups derived from this argument may not be initialized correctly.\u001B[0m\n"
     ]
    }
   ],
   "source": [
    "import gym\n",
    "from maze.api.run_context import RunContext\n",
    "from maze.core.wrappers.maze_gym_env_wrapper import GymMazeEnv\n",
    "\n",
    "rc = RunContext(\n",
    "    algorithm=\"a2c\",\n",
    "    env=lambda: GymMazeEnv(env=gym.make(\"CartPole-v0\"))\n",
    ")"
   ],
   "metadata": {
    "collapsed": false,
    "pycharm": {
     "name": "#%%\n"
    }
   }
  },
  {
   "cell_type": "markdown",
   "source": [
    "What if we want to change the learning rate? One possibility is to create an instance of the component, in this case `A2CAlgorithmConfig`, with the right parameters and pass it to `RunContext`:"
   ],
   "metadata": {
    "collapsed": false
   }
  },
  {
   "cell_type": "code",
   "execution_count": 4,
   "outputs": [
    {
     "name": "stdout",
     "output_type": "stream",
     "text": [
      "\u001B[93mWarning: Extracting config module name for argument 'env' is not supported. Configuration groups derived from this argument may not be initialized correctly.\u001B[0m\n"
     ]
    }
   ],
   "source": [
    "from maze.train.trainers.a2c.a2c_algorithm_config import A2CAlgorithmConfig\n",
    "\n",
    "alg_config = A2CAlgorithmConfig(\n",
    "    n_epochs=10,\n",
    "    epoch_length=25,\n",
    "    deterministic_eval=False,\n",
    "    eval_repeats=2,\n",
    "    patience=15,\n",
    "    critic_burn_in_epochs=0,\n",
    "    n_rollout_steps=100,\n",
    "    lr=0.00025,\n",
    "    gamma=0.98,\n",
    "    gae_lambda=1.0,\n",
    "    policy_loss_coef=1.0,\n",
    "    value_loss_coef=0.5,\n",
    "    entropy_coef=0.00025,\n",
    "    max_grad_norm=0.0,\n",
    "    device='cpu'\n",
    ")\n",
    "\n",
    "rc = RunContext(\n",
    "    algorithm=alg_config,\n",
    "    env=lambda: GymMazeEnv(env=gym.make(\"CartPole-v0\"))\n",
    ")"
   ],
   "metadata": {
    "collapsed": false,
    "pycharm": {
     "name": "#%%\n"
    }
   }
  },
  {
   "cell_type": "markdown",
   "source": [
    "This however requires to create a new instance and specify all initialization arguments, which is not of interest to us here. Instead, we can use `overrides` to change only the property we're interested in:"
   ],
   "metadata": {
    "collapsed": false
   }
  },
  {
   "cell_type": "code",
   "execution_count": 5,
   "outputs": [
    {
     "name": "stdout",
     "output_type": "stream",
     "text": [
      "\u001B[93mWarning: Extracting config module name for argument 'env' is not supported. Configuration groups derived from this argument may not be initialized correctly.\u001B[0m\n"
     ]
    }
   ],
   "source": [
    "rc = RunContext(\n",
    "    algorithm=\"a2c\",\n",
    "    env=lambda: GymMazeEnv(env=gym.make(\"CartPole-v0\")),\n",
    "    overrides={\"algorithm.lr\": 0.00025}\n",
    ")"
   ],
   "metadata": {
    "collapsed": false,
    "pycharm": {
     "name": "#%%\n"
    }
   }
  },
  {
   "cell_type": "markdown",
   "source": [
    "This works for all components exposed in `RunContext`. Feel free to check out the documentation on [RunContext](https://maze-rl.readthedocs.io/en/latest/concepts_and_structure/run_context_overview.html) and [training](https://maze-rl.readthedocs.io/en/latest/workflow/training.html) to see more examples. Maze makes it fast and easy to adjust the configuration to suit your needs.\n",
    "\n",
    "An example: Want to speed up your training? In Maze, [Runners](https://maze-rl.readthedocs.io/en/latest/scaling_training/runner_concept.html) are responsible for launching and managing individual runs. Without having to know much else about your runner you can simply change its `concurrency` parameter:"
   ],
   "metadata": {
    "collapsed": false
   }
  },
  {
   "cell_type": "code",
   "execution_count": 6,
   "outputs": [
    {
     "name": "stdout",
     "output_type": "stream",
     "text": [
      "\u001B[93mWarning: Extracting config module name for argument 'env' is not supported. Configuration groups derived from this argument may not be initialized correctly.\u001B[0m\n"
     ]
    }
   ],
   "source": [
    "rc = RunContext(\n",
    "    algorithm=\"a2c\",\n",
    "    env=lambda: GymMazeEnv(env=gym.make(\"CartPole-v0\")),\n",
    "    overrides={\"runner.concurrency\": 8}\n",
    ")"
   ],
   "metadata": {
    "collapsed": false,
    "pycharm": {
     "name": "#%%\n"
    }
   }
  },
  {
   "cell_type": "markdown",
   "source": [
    "## Wrappers\n",
    "\n",
    "We refer to \"wrappers\" in the sense of environment wrappers as used in  [OpenAI's Gym](https://gym.openai.com/) (see e.g. [this](https://alexandervandekleut.github.io/gym-wrappers/) as a nice introduction). In a larger context a wrapper is a software design pattern that describes a class `B` wrapping a class `A`'s methods in order to use the functionality of `A` with `B`'s interface without modifying `A`'s code.\n",
    "\n",
    "In Maze (and Gym), environment wrappers do not introduce interface changes. They add or modify functionality of the underlying entity. One example for this relates to observation preprocessing, e.g. normalization: This is functionality useful for many environments. A possibility to avoid a recurring implementation in every environment is to encapsulate this in a wrapper<sup>*</sup> preprocessing/normalizing observations after each `step()` and use only wrapped environments.\n",
    "\n",
    "Since wrappers can wrap other wrappers, this underlying entity can be the environment itself or another wrapper. Calls to methods of the wrapped entity are propagated to the next layer, even if they are not explicitly implemented in the wrapper. E.g.: Wrapper class `ExampleWrapper` wraps environment class `ExampleEnv`. It only implements `step()` (by e.g. preprocessing input for `ExampleEnv.step()`). One could still invoke `reset()` on this wrapper instance though - the call is forwarded throughout the wrapper stack to the first class implementing this method (in this case `ExampleEnv`).\n",
    "\n",
    "<sup>*</sup> Arguably this could also be solved via inheritance. However, doing so comes at the cost of a more complex (multi-)inheritance tree. It also lacks the flexibility that is inherent to wrappers: With wrappers it is possible to choose which functionality to extend your environment by at runtime - this is not the case with inheritance.\n"
   ],
   "metadata": {
    "collapsed": false
   }
  },
  {
   "cell_type": "markdown",
   "source": [
    "One way to use wrappers is to use their `wrap()` method on an instantiated environment:"
   ],
   "metadata": {
    "collapsed": false
   }
  },
  {
   "cell_type": "code",
   "execution_count": 7,
   "outputs": [],
   "source": [
    "from maze.core.wrappers.time_limit_wrapper import TimeLimitWrapper\n",
    "\n",
    "env = GymMazeEnv(env=gym.make(\"CartPole-v0\"))\n",
    "wrapped_env = TimeLimitWrapper.wrap(env, max_episode_steps=3)"
   ],
   "metadata": {
    "collapsed": false,
    "pycharm": {
     "name": "#%%\n"
    }
   }
  },
  {
   "cell_type": "markdown",
   "source": [
    "Here we use a `TimeLimitWrapper` that limits the number of elapsed steps before setting the environment to done. Let's test it:"
   ],
   "metadata": {
    "collapsed": false
   }
  },
  {
   "cell_type": "code",
   "execution_count": 8,
   "outputs": [
    {
     "name": "stdout",
     "output_type": "stream",
     "text": [
      "Total number of iterations: 3\n"
     ]
    }
   ],
   "source": [
    "done = False\n",
    "i = 0\n",
    "wrapped_env.reset()\n",
    "\n",
    "while not done:\n",
    "    _, _, done, _ = wrapped_env.step(env.action_space.sample())\n",
    "    i += 1\n",
    "\n",
    "print(\"Total number of iterations: {i}\".format(i=i))"
   ],
   "metadata": {
    "collapsed": false,
    "pycharm": {
     "name": "#%%\n"
    }
   }
  },
  {
   "cell_type": "markdown",
   "source": [
    "As you can see, the total number of steps never exceeds 3 due to the wrapper's functionality. There are many applications for wrappers - observation normalization, limiting the max. number of steps to take, normalizing and clipping rewards etc.\n",
    "\n",
    "It is very common in reinforcement learning to configure wrappers stacks facilitating the agent's learning process considering the nature of the learning problem and environment. For this reason Maze provides preconfigured wrapper stacks. E.g.: `pixel_obs` is suitable for the common problem setting of learning in the pixel space, e.g. for Atari games; `vector_obs` is configured for learning in the vectorized feature space, e.g. `CartPole`.\n",
    "\n",
    "To illustrate we will train on the [LunarLander-v2](https://gym.openai.com/envs/LunarLander-v2/) environment once without the `vector_obs` wrapper stack and once with and compare the results."
   ],
   "metadata": {
    "collapsed": false
   }
  },
  {
   "cell_type": "code",
   "execution_count": 9,
   "outputs": [
    {
     "name": "stdout",
     "output_type": "stream",
     "text": [
      "\u001B[93mWarning: Extracting config module name for argument 'env' is not supported. Configuration groups derived from this argument may not be initialized correctly.\u001B[0m\n"
     ]
    },
    {
     "name": "stderr",
     "output_type": "stream",
     "text": [
      "100%|██████████| 25/25 [00:10<00:00,  2.50it/s]\n",
      "100%|██████████| 25/25 [00:13<00:00,  1.80it/s]\n",
      "100%|██████████| 25/25 [00:17<00:00,  1.43it/s]\n",
      "  0%|          | 0/10000 [00:00<?, ?it/s]"
     ]
    },
    {
     "name": "stdout",
     "output_type": "stream",
     "text": [
      "\u001B[93mWarning: Extracting config module name for argument 'env' is not supported. Configuration groups derived from this argument may not be initialized correctly.\u001B[0m\n"
     ]
    },
    {
     "name": "stderr",
     "output_type": "stream",
     "text": [
      "100%|██████████| 10000/10000 [00:03<00:00, 2583.71it/s]\n",
      "100%|██████████| 25/25 [00:09<00:00,  2.54it/s]\n",
      "100%|██████████| 25/25 [00:10<00:00,  2.47it/s]\n",
      "100%|██████████| 25/25 [00:11<00:00,  2.17it/s]\n"
     ]
    },
    {
     "name": "stdout",
     "output_type": "stream",
     "text": [
      "Mean returns:\n",
      "        - -328.4984754533955 without vector_obs wrapper stack\n",
      "        - 57.482992697390024 with vector_obs wrapper stack.\n",
      "    \n"
     ]
    }
   ],
   "source": [
    "from maze.utils.notebooks import rollout\n",
    "from maze.api.utils import working_directory\n",
    "\n",
    "\n",
    "def train_and_eval_lunar_lander(use_vector_obs_wrappers: bool) -> float:\n",
    "    \"\"\"\n",
    "    Trains and evaluates a RunContext on LunarLander-v2.\n",
    "    :param use_vector_obs_wrappers: Whether to use vector_obs wrapper stack.\n",
    "    :return: Mean return over 5 episodes.\n",
    "    \"\"\"\n",
    "\n",
    "    wrappers = {\"wrappers\": \"vector_obs\"} if use_vector_obs_wrappers else {}\n",
    "    runcon = RunContext(\n",
    "        algorithm=\"ppo\",\n",
    "        env=lambda: GymMazeEnv(env=gym.make(\"LunarLander-v2\")),\n",
    "        silent=True,\n",
    "        **wrappers\n",
    "    )\n",
    "    runcon.train(n_epochs=3)\n",
    "\n",
    "    with working_directory(runcon.run_dir):\n",
    "        mean_return = sum([\n",
    "            rollout(runcon.generate_env(), runcon, 2500, log_dir=runcon.run_dir)\n",
    "            for _ in range(10)\n",
    "        ]) / 5\n",
    "\n",
    "    return mean_return\n",
    "\n",
    "print(\n",
    "    \"\"\"Mean returns:\n",
    "        - {mr_wo} without vector_obs wrapper stack\n",
    "        - {mr_w} with vector_obs wrapper stack.\n",
    "    \"\"\".format(\n",
    "        mr_wo=train_and_eval_lunar_lander(False),\n",
    "        mr_w=train_and_eval_lunar_lander(True)\n",
    "    )\n",
    ")"
   ],
   "metadata": {
    "collapsed": false,
    "pycharm": {
     "name": "#%%\n"
    }
   }
  },
  {
   "cell_type": "markdown",
   "source": [
    "After training for three epochs, the mean return per episode is considerably higher with than without the `vector_obs` wrapper stack.\n",
    "\n",
    "\n",
    "## Summary\n",
    "\n",
    "This notebook...\n",
    "* ...demonstrates how to specify and pass components to `RunContext` in different ways.\n",
    "* ...shows how to set components' properties without having to specify the entire component by using `overrides`.\n",
    "* ...describes Maze' configuration system from a high-level perspective.\n",
    "* ...gives an introduction into the concept of environment wrappers and presents an example of how to apply a pre-configured wrapper stack.\n",
    "\n",
    "### What's next?\n",
    "\n",
    "* We recommend continuing with the [third part of the getting started series](www.github.com/enlite-ai/maze/blob/main/tutorials/notebooks/getting_started_3.ipynb).\n",
    "* If you would like to see more notebooks covering other areas of Maze, feel free to [kick of a discussion on Github](https://github.com/enlite-ai/maze/discussions)."
   ],
   "metadata": {
    "collapsed": false
   }
  }
 ],
 "metadata": {
  "kernelspec": {
   "display_name": "Python 3",
   "language": "python",
   "name": "python3"
  },
  "language_info": {
   "codemirror_mode": {
    "name": "ipython",
    "version": 2
   },
   "file_extension": ".py",
   "mimetype": "text/x-python",
   "name": "python",
   "nbconvert_exporter": "python",
   "pygments_lexer": "ipython2",
   "version": "2.7.6"
  }
 },
 "nbformat": 4,
 "nbformat_minor": 0
}