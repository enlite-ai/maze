{
 "cells": [
  {
   "cell_type": "markdown",
   "metadata": {},
   "source": [
    "# Trajectory and Event Logs Viewer"
   ]
  },
  {
   "cell_type": "markdown",
   "metadata": {},
   "source": [
    "This is an example notebook demostrating interactive rendering of trajectory and event log data.\n",
    "\n",
    "**Recorded trajectory data** (in the form of serialized pickle files, one per episode) can be loaded, the corresponding episode rendered step by step (optionally adjusting any other options if available in the environment).\n",
    "\n",
    "_Note: Offline rendering in this notebook is not yet available for Gym environments._"
   ]
  },
  {
   "cell_type": "code",
   "execution_count": 14,
   "metadata": {},
   "outputs": [],
   "source": [
    "from ipywidgets import interact, interactive, fixed, interact_manual\n",
    "import ipywidgets as widgets\n",
    "%matplotlib inline\n",
    "\n",
    "from pathlib import Path\n",
    "\n",
    "import pandas as pd\n",
    "import pickle"
   ]
  },
  {
   "cell_type": "code",
   "execution_count": 15,
   "metadata": {},
   "outputs": [],
   "source": [
    "import os\n",
    "import sys\n",
    "\n",
    "from maze.core.rendering.notebook_trajectory_viewer import NotebookTrajectoryViewer\n",
    "from maze.core.rendering.notebook_event_logs_viewer import NotebookEventLogsViewer"
   ]
  },
  {
   "cell_type": "markdown",
   "metadata": {},
   "source": [
    "Example rollout data from multi-echelon inventory environment are stored here:"
   ]
  },
  {
   "cell_type": "code",
   "execution_count": 17,
   "metadata": {},
   "outputs": [],
   "source": [
    "example_data_dir = Path(\".\") / \"example_data\"\n"
   ]
  },
  {
   "cell_type": "markdown",
   "metadata": {},
   "source": [
    "## Trajectory Viewer"
   ]
  },
  {
   "cell_type": "markdown",
   "metadata": {},
   "source": [
    "Trajectory viewer loads serialized trajectory data and displays them with environment renderer if available (for environments that support it, renderer is serialized together with trajectory data). The episode data can then be browsed step by step in the interactive viewer, optionally providing any additional arguments if required by the env (like with Multi-Echelon Inventory Environment)."
   ]
  },
  {
   "cell_type": "markdown",
   "metadata": {},
   "source": [
    "First, input the location of your trajectory data below:"
   ]
  },
  {
   "cell_type": "code",
   "execution_count": 21,
   "metadata": {
    "scrolled": true
   },
   "outputs": [],
   "source": [
    "trajectory_dir = example_data_dir / \"trajectory_data\"\n",
    "trajectory_log_names = list(trajectory_dir.glob(\"*.pkl\"))"
   ]
  },
  {
   "cell_type": "markdown",
   "metadata": {},
   "source": [
    "The following episode trajectory records were found:"
   ]
  },
  {
   "cell_type": "code",
   "execution_count": 22,
   "metadata": {},
   "outputs": [
    {
     "data": {
      "text/plain": [
       "[PosixPath('example_data/trajectory_data/4bd4e5b9-176a-4f7b-89d6-bc57abc5a50a.pkl'),\n",
       " PosixPath('example_data/trajectory_data/3f0dae4e-e0a8-4099-bb46-e6e3e4afed8f.pkl'),\n",
       " PosixPath('example_data/trajectory_data/3fea0347-d4c9-4dc3-9b06-554dd4dc502c.pkl')]"
      ]
     },
     "execution_count": 22,
     "metadata": {},
     "output_type": "execute_result"
    }
   ],
   "source": [
    "trajectory_log_names"
   ]
  },
  {
   "cell_type": "markdown",
   "metadata": {},
   "source": [
    "Select trajectory log to load and load it:"
   ]
  },
  {
   "cell_type": "code",
   "execution_count": 23,
   "metadata": {},
   "outputs": [],
   "source": [
    "trajectory_log_to_load = trajectory_log_names[0]\n",
    "with open(trajectory_log_to_load, \"rb\") as in_f:\n",
    "    episode_record = pickle.load(in_f)"
   ]
  },
  {
   "cell_type": "markdown",
   "metadata": {},
   "source": [
    "Then build and display the interactive viewer for the selected episode log:"
   ]
  },
  {
   "cell_type": "code",
   "execution_count": 24,
   "metadata": {},
   "outputs": [
    {
     "data": {
      "application/vnd.jupyter.widget-view+json": {
       "model_id": "2d63b1f2310e4a7abb2ca961fec01e0e",
       "version_major": 2,
       "version_minor": 0
      },
      "text/plain": [
       "interactive(children=(IntSlider(value=0, continuous_update=False, description='Step ID', max=200), Output()), …"
      ]
     },
     "metadata": {},
     "output_type": "display_data"
    }
   ],
   "source": [
    "NotebookTrajectoryViewer(episode_record).build()"
   ]
  },
  {
   "cell_type": "code",
   "execution_count": null,
   "metadata": {},
   "outputs": [],
   "source": []
  }
 ],
 "metadata": {
  "kernelspec": {
   "display_name": "Python 3",
   "language": "python",
   "name": "python3"
  },
  "language_info": {
   "codemirror_mode": {
    "name": "ipython",
    "version": 3
   },
   "file_extension": ".py",
   "mimetype": "text/x-python",
   "name": "python",
   "nbconvert_exporter": "python",
   "pygments_lexer": "ipython3",
   "version": "3.7.7"
  }
 },
 "nbformat": 4,
 "nbformat_minor": 4
}